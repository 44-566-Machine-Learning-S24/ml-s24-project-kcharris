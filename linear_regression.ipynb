{
 "cells": [
  {
   "cell_type": "markdown",
   "id": "5f378ffb-f3ce-4b19-8121-20228f085840",
   "metadata": {},
   "source": [
    "## 1."
   ]
  },
  {
   "cell_type": "code",
   "execution_count": 36,
   "id": "398597ff-973c-480e-b347-448f610751bb",
   "metadata": {},
   "outputs": [],
   "source": [
    "import pandas as pd\n",
    "from sklearn.model_selection import train_test_split\n",
    "\n",
    "# read from file\n",
    "data_frame = pd.read_csv(\"../ProjectResources/movies/movies_metadata.csv\", low_memory=False)\n",
    "\n",
    "#create working copy\n",
    "work_copy = data_frame.copy()\n",
    "work_copy['budget'] = pd.to_numeric(work_copy['budget'], errors='coerce')\n",
    "\n",
    "# clean the data\n",
    "work_copy.dropna(axis='index', how='any', subset=['budget', 'vote_average', 'runtime', 'revenue'], inplace=True)\n",
    "work_copy = work_copy[['budget', 'vote_average', 'runtime', 'revenue']]\n",
    "\n",
    "# create a filter over budgets with 10,000\n",
    "budget_gt_0 = work_copy.copy()\n",
    "budget_gt_10k = work_copy['budget'] > 10_000\n",
    "\n",
    "# create training and test sets\n",
    "train_set, test_set = train_test_split(work_copy, test_size=0.2, random_state=777)\n",
    "working_train = train_set.copy()\n",
    "working_test = test_set.copy()"
   ]
  },
  {
   "cell_type": "markdown",
   "id": "f949058a-01ac-4992-b02c-4bd2899be16f",
   "metadata": {},
   "source": [
    "## 2.  \n",
    "The initial features I'm choosing for the linear regression are Budget for X and Revenue for Y. I picked these due to their positive correlation found in part A, and because it kind of makes sense to try and predict revenue from budget."
   ]
  },
  {
   "cell_type": "markdown",
   "id": "a63ee07d-769d-4464-80d1-1a006cd8c48f",
   "metadata": {},
   "source": [
    "## 3. "
   ]
  },
  {
   "cell_type": "code",
   "execution_count": 46,
   "id": "145ee560-179d-41ab-9215-2b164c665b11",
   "metadata": {},
   "outputs": [
    {
     "name": "stderr",
     "output_type": "stream",
     "text": [
      "C:\\Users\\s539593\\AppData\\Local\\Temp\\ipykernel_9400\\1724187167.py:4: UserWarning: Boolean Series key will be reindexed to match DataFrame index.\n",
      "  x = working_train[budget_gt_10k][['budget']]\n",
      "C:\\Users\\s539593\\AppData\\Local\\Temp\\ipykernel_9400\\1724187167.py:5: UserWarning: Boolean Series key will be reindexed to match DataFrame index.\n",
      "  y = working_train[budget_gt_10k]['revenue']\n",
      "C:\\Users\\s539593\\Documents\\School\\DataScience\\ds-venv\\Lib\\site-packages\\sklearn\\linear_model\\_coordinate_descent.py:678: ConvergenceWarning: Objective did not converge. You might want to increase the number of iterations, check the scale of the features or consider increasing regularisation. Duality gap: 1.606e+19, tolerance: 1.331e+16\n",
      "  model = cd_fast.enet_coordinate_descent(\n"
     ]
    },
    {
     "data": {
      "text/html": [
       "<style>#sk-container-id-6 {\n",
       "  /* Definition of color scheme common for light and dark mode */\n",
       "  --sklearn-color-text: black;\n",
       "  --sklearn-color-line: gray;\n",
       "  /* Definition of color scheme for unfitted estimators */\n",
       "  --sklearn-color-unfitted-level-0: #fff5e6;\n",
       "  --sklearn-color-unfitted-level-1: #f6e4d2;\n",
       "  --sklearn-color-unfitted-level-2: #ffe0b3;\n",
       "  --sklearn-color-unfitted-level-3: chocolate;\n",
       "  /* Definition of color scheme for fitted estimators */\n",
       "  --sklearn-color-fitted-level-0: #f0f8ff;\n",
       "  --sklearn-color-fitted-level-1: #d4ebff;\n",
       "  --sklearn-color-fitted-level-2: #b3dbfd;\n",
       "  --sklearn-color-fitted-level-3: cornflowerblue;\n",
       "\n",
       "  /* Specific color for light theme */\n",
       "  --sklearn-color-text-on-default-background: var(--sg-text-color, var(--theme-code-foreground, var(--jp-content-font-color1, black)));\n",
       "  --sklearn-color-background: var(--sg-background-color, var(--theme-background, var(--jp-layout-color0, white)));\n",
       "  --sklearn-color-border-box: var(--sg-text-color, var(--theme-code-foreground, var(--jp-content-font-color1, black)));\n",
       "  --sklearn-color-icon: #696969;\n",
       "\n",
       "  @media (prefers-color-scheme: dark) {\n",
       "    /* Redefinition of color scheme for dark theme */\n",
       "    --sklearn-color-text-on-default-background: var(--sg-text-color, var(--theme-code-foreground, var(--jp-content-font-color1, white)));\n",
       "    --sklearn-color-background: var(--sg-background-color, var(--theme-background, var(--jp-layout-color0, #111)));\n",
       "    --sklearn-color-border-box: var(--sg-text-color, var(--theme-code-foreground, var(--jp-content-font-color1, white)));\n",
       "    --sklearn-color-icon: #878787;\n",
       "  }\n",
       "}\n",
       "\n",
       "#sk-container-id-6 {\n",
       "  color: var(--sklearn-color-text);\n",
       "}\n",
       "\n",
       "#sk-container-id-6 pre {\n",
       "  padding: 0;\n",
       "}\n",
       "\n",
       "#sk-container-id-6 input.sk-hidden--visually {\n",
       "  border: 0;\n",
       "  clip: rect(1px 1px 1px 1px);\n",
       "  clip: rect(1px, 1px, 1px, 1px);\n",
       "  height: 1px;\n",
       "  margin: -1px;\n",
       "  overflow: hidden;\n",
       "  padding: 0;\n",
       "  position: absolute;\n",
       "  width: 1px;\n",
       "}\n",
       "\n",
       "#sk-container-id-6 div.sk-dashed-wrapped {\n",
       "  border: 1px dashed var(--sklearn-color-line);\n",
       "  margin: 0 0.4em 0.5em 0.4em;\n",
       "  box-sizing: border-box;\n",
       "  padding-bottom: 0.4em;\n",
       "  background-color: var(--sklearn-color-background);\n",
       "}\n",
       "\n",
       "#sk-container-id-6 div.sk-container {\n",
       "  /* jupyter's `normalize.less` sets `[hidden] { display: none; }`\n",
       "     but bootstrap.min.css set `[hidden] { display: none !important; }`\n",
       "     so we also need the `!important` here to be able to override the\n",
       "     default hidden behavior on the sphinx rendered scikit-learn.org.\n",
       "     See: https://github.com/scikit-learn/scikit-learn/issues/21755 */\n",
       "  display: inline-block !important;\n",
       "  position: relative;\n",
       "}\n",
       "\n",
       "#sk-container-id-6 div.sk-text-repr-fallback {\n",
       "  display: none;\n",
       "}\n",
       "\n",
       "div.sk-parallel-item,\n",
       "div.sk-serial,\n",
       "div.sk-item {\n",
       "  /* draw centered vertical line to link estimators */\n",
       "  background-image: linear-gradient(var(--sklearn-color-text-on-default-background), var(--sklearn-color-text-on-default-background));\n",
       "  background-size: 2px 100%;\n",
       "  background-repeat: no-repeat;\n",
       "  background-position: center center;\n",
       "}\n",
       "\n",
       "/* Parallel-specific style estimator block */\n",
       "\n",
       "#sk-container-id-6 div.sk-parallel-item::after {\n",
       "  content: \"\";\n",
       "  width: 100%;\n",
       "  border-bottom: 2px solid var(--sklearn-color-text-on-default-background);\n",
       "  flex-grow: 1;\n",
       "}\n",
       "\n",
       "#sk-container-id-6 div.sk-parallel {\n",
       "  display: flex;\n",
       "  align-items: stretch;\n",
       "  justify-content: center;\n",
       "  background-color: var(--sklearn-color-background);\n",
       "  position: relative;\n",
       "}\n",
       "\n",
       "#sk-container-id-6 div.sk-parallel-item {\n",
       "  display: flex;\n",
       "  flex-direction: column;\n",
       "}\n",
       "\n",
       "#sk-container-id-6 div.sk-parallel-item:first-child::after {\n",
       "  align-self: flex-end;\n",
       "  width: 50%;\n",
       "}\n",
       "\n",
       "#sk-container-id-6 div.sk-parallel-item:last-child::after {\n",
       "  align-self: flex-start;\n",
       "  width: 50%;\n",
       "}\n",
       "\n",
       "#sk-container-id-6 div.sk-parallel-item:only-child::after {\n",
       "  width: 0;\n",
       "}\n",
       "\n",
       "/* Serial-specific style estimator block */\n",
       "\n",
       "#sk-container-id-6 div.sk-serial {\n",
       "  display: flex;\n",
       "  flex-direction: column;\n",
       "  align-items: center;\n",
       "  background-color: var(--sklearn-color-background);\n",
       "  padding-right: 1em;\n",
       "  padding-left: 1em;\n",
       "}\n",
       "\n",
       "\n",
       "/* Toggleable style: style used for estimator/Pipeline/ColumnTransformer box that is\n",
       "clickable and can be expanded/collapsed.\n",
       "- Pipeline and ColumnTransformer use this feature and define the default style\n",
       "- Estimators will overwrite some part of the style using the `sk-estimator` class\n",
       "*/\n",
       "\n",
       "/* Pipeline and ColumnTransformer style (default) */\n",
       "\n",
       "#sk-container-id-6 div.sk-toggleable {\n",
       "  /* Default theme specific background. It is overwritten whether we have a\n",
       "  specific estimator or a Pipeline/ColumnTransformer */\n",
       "  background-color: var(--sklearn-color-background);\n",
       "}\n",
       "\n",
       "/* Toggleable label */\n",
       "#sk-container-id-6 label.sk-toggleable__label {\n",
       "  cursor: pointer;\n",
       "  display: block;\n",
       "  width: 100%;\n",
       "  margin-bottom: 0;\n",
       "  padding: 0.5em;\n",
       "  box-sizing: border-box;\n",
       "  text-align: center;\n",
       "}\n",
       "\n",
       "#sk-container-id-6 label.sk-toggleable__label-arrow:before {\n",
       "  /* Arrow on the left of the label */\n",
       "  content: \"▸\";\n",
       "  float: left;\n",
       "  margin-right: 0.25em;\n",
       "  color: var(--sklearn-color-icon);\n",
       "}\n",
       "\n",
       "#sk-container-id-6 label.sk-toggleable__label-arrow:hover:before {\n",
       "  color: var(--sklearn-color-text);\n",
       "}\n",
       "\n",
       "/* Toggleable content - dropdown */\n",
       "\n",
       "#sk-container-id-6 div.sk-toggleable__content {\n",
       "  max-height: 0;\n",
       "  max-width: 0;\n",
       "  overflow: hidden;\n",
       "  text-align: left;\n",
       "  /* unfitted */\n",
       "  background-color: var(--sklearn-color-unfitted-level-0);\n",
       "}\n",
       "\n",
       "#sk-container-id-6 div.sk-toggleable__content.fitted {\n",
       "  /* fitted */\n",
       "  background-color: var(--sklearn-color-fitted-level-0);\n",
       "}\n",
       "\n",
       "#sk-container-id-6 div.sk-toggleable__content pre {\n",
       "  margin: 0.2em;\n",
       "  border-radius: 0.25em;\n",
       "  color: var(--sklearn-color-text);\n",
       "  /* unfitted */\n",
       "  background-color: var(--sklearn-color-unfitted-level-0);\n",
       "}\n",
       "\n",
       "#sk-container-id-6 div.sk-toggleable__content.fitted pre {\n",
       "  /* unfitted */\n",
       "  background-color: var(--sklearn-color-fitted-level-0);\n",
       "}\n",
       "\n",
       "#sk-container-id-6 input.sk-toggleable__control:checked~div.sk-toggleable__content {\n",
       "  /* Expand drop-down */\n",
       "  max-height: 200px;\n",
       "  max-width: 100%;\n",
       "  overflow: auto;\n",
       "}\n",
       "\n",
       "#sk-container-id-6 input.sk-toggleable__control:checked~label.sk-toggleable__label-arrow:before {\n",
       "  content: \"▾\";\n",
       "}\n",
       "\n",
       "/* Pipeline/ColumnTransformer-specific style */\n",
       "\n",
       "#sk-container-id-6 div.sk-label input.sk-toggleable__control:checked~label.sk-toggleable__label {\n",
       "  color: var(--sklearn-color-text);\n",
       "  background-color: var(--sklearn-color-unfitted-level-2);\n",
       "}\n",
       "\n",
       "#sk-container-id-6 div.sk-label.fitted input.sk-toggleable__control:checked~label.sk-toggleable__label {\n",
       "  background-color: var(--sklearn-color-fitted-level-2);\n",
       "}\n",
       "\n",
       "/* Estimator-specific style */\n",
       "\n",
       "/* Colorize estimator box */\n",
       "#sk-container-id-6 div.sk-estimator input.sk-toggleable__control:checked~label.sk-toggleable__label {\n",
       "  /* unfitted */\n",
       "  background-color: var(--sklearn-color-unfitted-level-2);\n",
       "}\n",
       "\n",
       "#sk-container-id-6 div.sk-estimator.fitted input.sk-toggleable__control:checked~label.sk-toggleable__label {\n",
       "  /* fitted */\n",
       "  background-color: var(--sklearn-color-fitted-level-2);\n",
       "}\n",
       "\n",
       "#sk-container-id-6 div.sk-label label.sk-toggleable__label,\n",
       "#sk-container-id-6 div.sk-label label {\n",
       "  /* The background is the default theme color */\n",
       "  color: var(--sklearn-color-text-on-default-background);\n",
       "}\n",
       "\n",
       "/* On hover, darken the color of the background */\n",
       "#sk-container-id-6 div.sk-label:hover label.sk-toggleable__label {\n",
       "  color: var(--sklearn-color-text);\n",
       "  background-color: var(--sklearn-color-unfitted-level-2);\n",
       "}\n",
       "\n",
       "/* Label box, darken color on hover, fitted */\n",
       "#sk-container-id-6 div.sk-label.fitted:hover label.sk-toggleable__label.fitted {\n",
       "  color: var(--sklearn-color-text);\n",
       "  background-color: var(--sklearn-color-fitted-level-2);\n",
       "}\n",
       "\n",
       "/* Estimator label */\n",
       "\n",
       "#sk-container-id-6 div.sk-label label {\n",
       "  font-family: monospace;\n",
       "  font-weight: bold;\n",
       "  display: inline-block;\n",
       "  line-height: 1.2em;\n",
       "}\n",
       "\n",
       "#sk-container-id-6 div.sk-label-container {\n",
       "  text-align: center;\n",
       "}\n",
       "\n",
       "/* Estimator-specific */\n",
       "#sk-container-id-6 div.sk-estimator {\n",
       "  font-family: monospace;\n",
       "  border: 1px dotted var(--sklearn-color-border-box);\n",
       "  border-radius: 0.25em;\n",
       "  box-sizing: border-box;\n",
       "  margin-bottom: 0.5em;\n",
       "  /* unfitted */\n",
       "  background-color: var(--sklearn-color-unfitted-level-0);\n",
       "}\n",
       "\n",
       "#sk-container-id-6 div.sk-estimator.fitted {\n",
       "  /* fitted */\n",
       "  background-color: var(--sklearn-color-fitted-level-0);\n",
       "}\n",
       "\n",
       "/* on hover */\n",
       "#sk-container-id-6 div.sk-estimator:hover {\n",
       "  /* unfitted */\n",
       "  background-color: var(--sklearn-color-unfitted-level-2);\n",
       "}\n",
       "\n",
       "#sk-container-id-6 div.sk-estimator.fitted:hover {\n",
       "  /* fitted */\n",
       "  background-color: var(--sklearn-color-fitted-level-2);\n",
       "}\n",
       "\n",
       "/* Specification for estimator info (e.g. \"i\" and \"?\") */\n",
       "\n",
       "/* Common style for \"i\" and \"?\" */\n",
       "\n",
       ".sk-estimator-doc-link,\n",
       "a:link.sk-estimator-doc-link,\n",
       "a:visited.sk-estimator-doc-link {\n",
       "  float: right;\n",
       "  font-size: smaller;\n",
       "  line-height: 1em;\n",
       "  font-family: monospace;\n",
       "  background-color: var(--sklearn-color-background);\n",
       "  border-radius: 1em;\n",
       "  height: 1em;\n",
       "  width: 1em;\n",
       "  text-decoration: none !important;\n",
       "  margin-left: 1ex;\n",
       "  /* unfitted */\n",
       "  border: var(--sklearn-color-unfitted-level-1) 1pt solid;\n",
       "  color: var(--sklearn-color-unfitted-level-1);\n",
       "}\n",
       "\n",
       ".sk-estimator-doc-link.fitted,\n",
       "a:link.sk-estimator-doc-link.fitted,\n",
       "a:visited.sk-estimator-doc-link.fitted {\n",
       "  /* fitted */\n",
       "  border: var(--sklearn-color-fitted-level-1) 1pt solid;\n",
       "  color: var(--sklearn-color-fitted-level-1);\n",
       "}\n",
       "\n",
       "/* On hover */\n",
       "div.sk-estimator:hover .sk-estimator-doc-link:hover,\n",
       ".sk-estimator-doc-link:hover,\n",
       "div.sk-label-container:hover .sk-estimator-doc-link:hover,\n",
       ".sk-estimator-doc-link:hover {\n",
       "  /* unfitted */\n",
       "  background-color: var(--sklearn-color-unfitted-level-3);\n",
       "  color: var(--sklearn-color-background);\n",
       "  text-decoration: none;\n",
       "}\n",
       "\n",
       "div.sk-estimator.fitted:hover .sk-estimator-doc-link.fitted:hover,\n",
       ".sk-estimator-doc-link.fitted:hover,\n",
       "div.sk-label-container:hover .sk-estimator-doc-link.fitted:hover,\n",
       ".sk-estimator-doc-link.fitted:hover {\n",
       "  /* fitted */\n",
       "  background-color: var(--sklearn-color-fitted-level-3);\n",
       "  color: var(--sklearn-color-background);\n",
       "  text-decoration: none;\n",
       "}\n",
       "\n",
       "/* Span, style for the box shown on hovering the info icon */\n",
       ".sk-estimator-doc-link span {\n",
       "  display: none;\n",
       "  z-index: 9999;\n",
       "  position: relative;\n",
       "  font-weight: normal;\n",
       "  right: .2ex;\n",
       "  padding: .5ex;\n",
       "  margin: .5ex;\n",
       "  width: min-content;\n",
       "  min-width: 20ex;\n",
       "  max-width: 50ex;\n",
       "  color: var(--sklearn-color-text);\n",
       "  box-shadow: 2pt 2pt 4pt #999;\n",
       "  /* unfitted */\n",
       "  background: var(--sklearn-color-unfitted-level-0);\n",
       "  border: .5pt solid var(--sklearn-color-unfitted-level-3);\n",
       "}\n",
       "\n",
       ".sk-estimator-doc-link.fitted span {\n",
       "  /* fitted */\n",
       "  background: var(--sklearn-color-fitted-level-0);\n",
       "  border: var(--sklearn-color-fitted-level-3);\n",
       "}\n",
       "\n",
       ".sk-estimator-doc-link:hover span {\n",
       "  display: block;\n",
       "}\n",
       "\n",
       "/* \"?\"-specific style due to the `<a>` HTML tag */\n",
       "\n",
       "#sk-container-id-6 a.estimator_doc_link {\n",
       "  float: right;\n",
       "  font-size: 1rem;\n",
       "  line-height: 1em;\n",
       "  font-family: monospace;\n",
       "  background-color: var(--sklearn-color-background);\n",
       "  border-radius: 1rem;\n",
       "  height: 1rem;\n",
       "  width: 1rem;\n",
       "  text-decoration: none;\n",
       "  /* unfitted */\n",
       "  color: var(--sklearn-color-unfitted-level-1);\n",
       "  border: var(--sklearn-color-unfitted-level-1) 1pt solid;\n",
       "}\n",
       "\n",
       "#sk-container-id-6 a.estimator_doc_link.fitted {\n",
       "  /* fitted */\n",
       "  border: var(--sklearn-color-fitted-level-1) 1pt solid;\n",
       "  color: var(--sklearn-color-fitted-level-1);\n",
       "}\n",
       "\n",
       "/* On hover */\n",
       "#sk-container-id-6 a.estimator_doc_link:hover {\n",
       "  /* unfitted */\n",
       "  background-color: var(--sklearn-color-unfitted-level-3);\n",
       "  color: var(--sklearn-color-background);\n",
       "  text-decoration: none;\n",
       "}\n",
       "\n",
       "#sk-container-id-6 a.estimator_doc_link.fitted:hover {\n",
       "  /* fitted */\n",
       "  background-color: var(--sklearn-color-fitted-level-3);\n",
       "}\n",
       "</style><div id=\"sk-container-id-6\" class=\"sk-top-container\"><div class=\"sk-text-repr-fallback\"><pre>ElasticNet(alpha=1)</pre><b>In a Jupyter environment, please rerun this cell to show the HTML representation or trust the notebook. <br />On GitHub, the HTML representation is unable to render, please try loading this page with nbviewer.org.</b></div><div class=\"sk-container\" hidden><div class=\"sk-item\"><div class=\"sk-estimator fitted sk-toggleable\"><input class=\"sk-toggleable__control sk-hidden--visually\" id=\"sk-estimator-id-6\" type=\"checkbox\" checked><label for=\"sk-estimator-id-6\" class=\"sk-toggleable__label fitted sk-toggleable__label-arrow fitted\">&nbsp;&nbsp;ElasticNet<a class=\"sk-estimator-doc-link fitted\" rel=\"noreferrer\" target=\"_blank\" href=\"https://scikit-learn.org/1.4/modules/generated/sklearn.linear_model.ElasticNet.html\">?<span>Documentation for ElasticNet</span></a><span class=\"sk-estimator-doc-link fitted\">i<span>Fitted</span></span></label><div class=\"sk-toggleable__content fitted\"><pre>ElasticNet(alpha=1)</pre></div> </div></div></div></div>"
      ],
      "text/plain": [
       "ElasticNet(alpha=1)"
      ]
     },
     "execution_count": 46,
     "metadata": {},
     "output_type": "execute_result"
    }
   ],
   "source": [
    "# code referenced from class repo\n",
    "from sklearn.linear_model import ElasticNet\n",
    "l_reg = ElasticNet(alpha= 1, l1_ratio=.5)\n",
    "x = working_train[budget_gt_10k][['budget']]\n",
    "y = working_train[budget_gt_10k]['revenue']\n",
    "l_reg.fit(x, y)"
   ]
  },
  {
   "cell_type": "code",
   "execution_count": 47,
   "id": "9432074f-3dbb-4c1a-a409-3c34542c6ce1",
   "metadata": {},
   "outputs": [
    {
     "name": "stdout",
     "output_type": "stream",
     "text": [
      "The bias is  -9673473.20433496\n",
      "The feature coefficients are  [2.97731863]\n"
     ]
    }
   ],
   "source": [
    "# code copied from class repo\n",
    "print(\"The bias is \" , l_reg.intercept_)\n",
    "print(\"The feature coefficients are \", l_reg.coef_)"
   ]
  },
  {
   "cell_type": "code",
   "execution_count": 48,
   "id": "fd3276f5-98b3-4007-bd78-a16f50eb26b6",
   "metadata": {},
   "outputs": [
    {
     "name": "stderr",
     "output_type": "stream",
     "text": [
      "C:\\Users\\s539593\\AppData\\Local\\Temp\\ipykernel_9400\\685928760.py:3: UserWarning: Boolean Series key will be reindexed to match DataFrame index.\n",
      "  plt.scatter(working_train[budget_gt_10k]['budget'], working_train[budget_gt_10k]['revenue'])\n",
      "C:\\Users\\s539593\\AppData\\Local\\Temp\\ipykernel_9400\\685928760.py:3: UserWarning: Boolean Series key will be reindexed to match DataFrame index.\n",
      "  plt.scatter(working_train[budget_gt_10k]['budget'], working_train[budget_gt_10k]['revenue'])\n"
     ]
    },
    {
     "data": {
      "image/png": "[encoded data removed]",
      "text/plain": [
       "<Figure size 640x480 with 1 Axes>"
      ]
     },
     "metadata": {},
     "output_type": "display_data"
    }
   ],
   "source": [
    "# code referenced from class repo\n",
    "import matplotlib.pyplot as plt\n",
    "plt.scatter(working_train[budget_gt_10k]['budget'], working_train[budget_gt_10k]['revenue'])\n",
    "plt.show()"
   ]
  },
  {
   "cell_type": "code",
   "execution_count": 41,
   "id": "cb4158e3-f6b9-4026-93ba-f3598dd07596",
   "metadata": {},
   "outputs": [
    {
     "name": "stdout",
     "output_type": "stream",
     "text": [
      "0.5449052590733374\n"
     ]
    }
   ],
   "source": [
    "print(l_reg.score(x, y))"
   ]
  },
  {
   "cell_type": "code",
   "execution_count": 49,
   "id": "2aad1601-b3ee-4df5-b696-45db617a6c83",
   "metadata": {},
   "outputs": [
    {
     "name": "stdout",
     "output_type": "stream",
     "text": [
      "mean squared error is  8762057565868100.0\n",
      "The root mean squared error is  93605862.88191621\n"
     ]
    }
   ],
   "source": [
    "# code coppied from class repo\n",
    "from sklearn.metrics import mean_squared_error\n",
    "from math import sqrt\n",
    "\n",
    "y_pred = l_reg.predict(x)\n",
    "mse = mean_squared_error(y, y_pred)\n",
    "print(\"mean squared error is \",  mse)\n",
    "\n",
    "rmse = sqrt(mse)\n",
    "print(\"The root mean squared error is \", rmse)"
   ]
  },
  {
   "cell_type": "markdown",
   "id": "7491218b-2f84-4f2d-b1d9-49bf95298f5a",
   "metadata": {},
   "source": [
    "## 4.\n",
    "The accuracy of the model at this point appears to be around 54.5%. As I reduced the working set to not include budgets under 10k the accuracy of the model went down by 4-5%. I expected the relation to be stronger, but it still appears to be fairly strong."
   ]
  },
  {
   "cell_type": "markdown",
   "id": "5838f1ce-440a-4cb8-ba80-02be842b13d9",
   "metadata": {},
   "source": [
    "## 5."
   ]
  },
  {
   "cell_type": "code",
   "execution_count": 64,
   "id": "2be6d851-a0c3-4177-a500-250cd5e1f5d9",
   "metadata": {},
   "outputs": [
    {
     "name": "stdout",
     "output_type": "stream",
     "text": [
      "0.5566273865842495\n",
      "The bias is  -67307732.150994\n",
      "The feature coefficients are  [2.94619138e+00 9.66962796e+06]\n"
     ]
    },
    {
     "name": "stderr",
     "output_type": "stream",
     "text": [
      "C:\\Users\\s539593\\AppData\\Local\\Temp\\ipykernel_9400\\93114221.py:3: UserWarning: Boolean Series key will be reindexed to match DataFrame index.\n",
      "  x = working_train[budget_gt_10k][[\"budget\", \"vote_average\"]]\n",
      "C:\\Users\\s539593\\AppData\\Local\\Temp\\ipykernel_9400\\93114221.py:4: UserWarning: Boolean Series key will be reindexed to match DataFrame index.\n",
      "  y = working_train[budget_gt_10k][\"revenue\"]\n"
     ]
    }
   ],
   "source": [
    "# check if another feature will improve results, \"vote_average\"\n",
    "reg_plus_vote_average = ElasticNet()\n",
    "x = working_train[budget_gt_10k][[\"budget\", \"vote_average\"]]\n",
    "y = working_train[budget_gt_10k][\"revenue\"]\n",
    "reg_plus_vote_average.fit(x, y)\n",
    "\n",
    "print(reg_plus_vote_average.score(x,y))\n",
    "print(\"The bias is \" , reg_plus_vote_average.intercept_)\n",
    "print(\"The feature coefficients are \", reg_plus_vote_average.coef_)"
   ]
  },
  {
   "cell_type": "code",
   "execution_count": 65,
   "id": "25d68610-671e-4692-882f-06936f47349a",
   "metadata": {},
   "outputs": [
    {
     "name": "stdout",
     "output_type": "stream",
     "text": [
      "0.5450843192771009\n",
      "The bias is  -16829554.784677736\n",
      "The feature coefficients are  [2.96508399e+00 7.01448916e+04]\n"
     ]
    },
    {
     "name": "stderr",
     "output_type": "stream",
     "text": [
      "C:\\Users\\s539593\\AppData\\Local\\Temp\\ipykernel_9400\\186452706.py:3: UserWarning: Boolean Series key will be reindexed to match DataFrame index.\n",
      "  x = working_train[budget_gt_10k][[\"budget\", \"runtime\"]]\n",
      "C:\\Users\\s539593\\AppData\\Local\\Temp\\ipykernel_9400\\186452706.py:4: UserWarning: Boolean Series key will be reindexed to match DataFrame index.\n",
      "  y = working_train[budget_gt_10k][\"revenue\"]\n"
     ]
    }
   ],
   "source": [
    "# check if another feature will improve results, \"runtime\"\n",
    "reg_plus_run = ElasticNet()\n",
    "x = working_train[budget_gt_10k][[\"budget\", \"runtime\"]]\n",
    "y = working_train[budget_gt_10k][\"revenue\"]\n",
    "reg_plus_run.fit(x, y)\n",
    "\n",
    "print(reg_plus_run.score(x,y))\n",
    "print(\"The bias is \" , reg_plus_run.intercept_)\n",
    "print(\"The feature coefficients are \", reg_plus_run.coef_)"
   ]
  },
  {
   "cell_type": "code",
   "execution_count": 66,
   "id": "13d9d186-4bcb-43ae-a44c-f46a040c04f6",
   "metadata": {},
   "outputs": [
    {
     "name": "stdout",
     "output_type": "stream",
     "text": [
      "0.5672128614967049\n"
     ]
    },
    {
     "name": "stderr",
     "output_type": "stream",
     "text": [
      "C:\\Users\\s539593\\AppData\\Local\\Temp\\ipykernel_9400\\3144914991.py:5: UserWarning: Boolean Series key will be reindexed to match DataFrame index.\n",
      "  X = working_train[budget_gt_10k][[\"budget\"]]\n",
      "C:\\Users\\s539593\\AppData\\Local\\Temp\\ipykernel_9400\\3144914991.py:6: UserWarning: Boolean Series key will be reindexed to match DataFrame index.\n",
      "  Y = working_train[budget_gt_10k][\"revenue\"]\n"
     ]
    }
   ],
   "source": [
    "# quadratic model\n",
    "from sklearn.linear_model import LinearRegression\n",
    "reg_plus_quad = LinearRegression()\n",
    "\n",
    "X = working_train[budget_gt_10k][[\"budget\"]]\n",
    "Y = working_train[budget_gt_10k][\"revenue\"]\n",
    "\n",
    "from sklearn.preprocessing import PolynomialFeatures\n",
    "create_quad_terms = PolynomialFeatures(degree=2, include_bias=False)\n",
    "X_quad_terms = create_quad_terms.fit_transform(X)\n",
    "              \n",
    "reg_plus_quad.fit(X_quad_terms, Y)\n",
    "print(reg_plus_quad.score(X_quad_terms,Y))"
   ]
  },
  {
   "cell_type": "code",
   "execution_count": 68,
   "id": "d582e36c-e49b-49a7-8327-40846dea3677",
   "metadata": {},
   "outputs": [
    {
     "name": "stdout",
     "output_type": "stream",
     "text": [
      "0.5575873030964276\n"
     ]
    },
    {
     "name": "stderr",
     "output_type": "stream",
     "text": [
      "C:\\Users\\s539593\\AppData\\Local\\Temp\\ipykernel_9400\\875461787.py:4: UserWarning: Boolean Series key will be reindexed to match DataFrame index.\n",
      "  X = working_train[budget_gt_10k][[\"budget\"]]\n",
      "C:\\Users\\s539593\\AppData\\Local\\Temp\\ipykernel_9400\\875461787.py:5: UserWarning: Boolean Series key will be reindexed to match DataFrame index.\n",
      "  Y = working_train[budget_gt_10k][\"revenue\"]\n"
     ]
    }
   ],
   "source": [
    "# qubic model\n",
    "reg_cube = LinearRegression()\n",
    "\n",
    "X = working_train[budget_gt_10k][[\"budget\"]]\n",
    "Y = working_train[budget_gt_10k][\"revenue\"]\n",
    "\n",
    "create_cube_terms = PolynomialFeatures(degree=3, include_bias=False)\n",
    "X_cube_terms = create_cube_terms.fit_transform(X)\n",
    "              \n",
    "reg_cube.fit(X_cube_terms, Y)\n",
    "print(reg_cube.score(X_cube_terms,Y))"
   ]
  },
  {
   "cell_type": "markdown",
   "id": "15cc3a73-306e-49c4-be20-0c348fb3a8ad",
   "metadata": {},
   "source": [
    "Using a quadratic model I was able to improve the results by from 0.5449 to 0.5672. ~2.3%"
   ]
  },
  {
   "cell_type": "markdown",
   "id": "9fc700a8-c7a7-451c-a68f-07911a603eb2",
   "metadata": {},
   "source": [
    "## 6."
   ]
  },
  {
   "cell_type": "code",
   "execution_count": 69,
   "id": "0d1a6a3e-5a38-4d65-88e0-512e29c07e05",
   "metadata": {},
   "outputs": [
    {
     "name": "stdout",
     "output_type": "stream",
     "text": [
      "0.5428067215525971\n"
     ]
    },
    {
     "name": "stderr",
     "output_type": "stream",
     "text": [
      "C:\\Users\\s539593\\AppData\\Local\\Temp\\ipykernel_9400\\3248061468.py:2: UserWarning: Boolean Series key will be reindexed to match DataFrame index.\n",
      "  X = working_test[budget_gt_10k][[\"budget\"]]\n",
      "C:\\Users\\s539593\\AppData\\Local\\Temp\\ipykernel_9400\\3248061468.py:3: UserWarning: Boolean Series key will be reindexed to match DataFrame index.\n",
      "  Y = working_test[budget_gt_10k][\"revenue\"]\n"
     ]
    }
   ],
   "source": [
    "# cubic\n",
    "X = working_test[budget_gt_10k][[\"budget\"]]\n",
    "Y = working_test[budget_gt_10k][\"revenue\"]\n",
    "\n",
    "create_cube_terms = PolynomialFeatures(degree=3, include_bias=False)\n",
    "X_cube_terms = create_cube_terms.fit_transform(X)\n",
    "\n",
    "print(reg_cube.score(X_cube_terms, Y))"
   ]
  },
  {
   "cell_type": "code",
   "execution_count": 70,
   "id": "35b65819-1c29-4b47-bdae-3fe3320fe338",
   "metadata": {},
   "outputs": [
    {
     "name": "stdout",
     "output_type": "stream",
     "text": [
      "0.5461539398839348\n"
     ]
    },
    {
     "name": "stderr",
     "output_type": "stream",
     "text": [
      "C:\\Users\\s539593\\AppData\\Local\\Temp\\ipykernel_9400\\2058896971.py:2: UserWarning: Boolean Series key will be reindexed to match DataFrame index.\n",
      "  X = working_test[budget_gt_10k][[\"budget\"]]\n",
      "C:\\Users\\s539593\\AppData\\Local\\Temp\\ipykernel_9400\\2058896971.py:3: UserWarning: Boolean Series key will be reindexed to match DataFrame index.\n",
      "  Y = working_test[budget_gt_10k][\"revenue\"]\n"
     ]
    }
   ],
   "source": [
    "# original linear with ElasticNet\n",
    "X = working_test[budget_gt_10k][[\"budget\"]]\n",
    "Y = working_test[budget_gt_10k][\"revenue\"]\n",
    "\n",
    "print(l_reg.score(X, Y))"
   ]
  },
  {
   "cell_type": "code",
   "execution_count": null,
   "id": "3c19d08c-f360-4163-bea0-1b48ea2a413d",
   "metadata": {},
   "outputs": [],
   "source": []
  }
 ],
 "metadata": {
  "kernelspec": {
   "display_name": "Python 3 (ipykernel)",
   "language": "python",
   "name": "python3"
  },
  "language_info": {
   "codemirror_mode": {
    "name": "ipython",
    "version": 3
   },
   "file_extension": ".py",
   "mimetype": "text/x-python",
   "name": "python",
   "nbconvert_exporter": "python",
   "pygments_lexer": "ipython3",
   "version": "3.11.4"
  }
 },
 "nbformat": 4,
 "nbformat_minor": 5
}
