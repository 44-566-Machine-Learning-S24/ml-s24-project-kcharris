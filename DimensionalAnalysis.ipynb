{
 "cells": [
  {
   "cell_type": "code",
   "execution_count": 1,
   "id": "a794b659-e99a-4baa-a9d6-9bcc77a3804f",
   "metadata": {},
   "outputs": [],
   "source": [
    "import pandas as pd\n",
    "from ast import literal_eval\n",
    "from sklearn.model_selection import train_test_split\n",
    "\n",
    "# read from file\n",
    "data_frame = pd.read_csv(\"../ProjectResources/movies/movies_metadata.csv\", low_memory=False)\n",
    "\n",
    "#create working copy\n",
    "work_copy = data_frame.copy()\n",
    "work_copy['budget'] = pd.to_numeric(work_copy['budget'], errors='coerce')\n",
    "\n",
    "# clean the data\n",
    "work_copy.dropna(axis='index', how='any', subset=['budget','vote_count','vote_average', 'revenue', 'genres', 'runtime'], inplace=True)\n",
    "work_copy = work_copy[['budget','genres','vote_count', 'vote_average', 'revenue', \"runtime\"]]\n",
    "# drop data with bad values\n",
    "work_copy = work_copy.drop(work_copy[work_copy.revenue == 0].index)\n",
    "work_copy = work_copy.drop(work_copy[work_copy.budget == 0].index)\n",
    "work_copy = work_copy.drop(work_copy[work_copy.vote_count == 0].index)\n",
    "\n",
    "# oject under genres can have multiple values, expand the dataset by creating multiple rows for the\n",
    "# same movie but with a single genre. These single genre items will be in {id: #, name: \"genre_name\"} format\n",
    "work_copy['genres'] = work_copy['genres'].apply(literal_eval)\n",
    "work_copy = work_copy.explode(\"genres\")\n",
    "work_copy.dropna(axis='index', how='any', subset=['genres'], inplace=True)\n",
    "work_copy['genres'] = [d.get('name') for d in work_copy['genres']]\n",
    "\n",
    "# Encode the genres into integers so they can be used by the KMeans classifier.\n",
    "from sklearn.preprocessing import LabelEncoder\n",
    "work_copy['genre_int'] = LabelEncoder().fit_transform(work_copy['genres'])\n",
    "\n",
    "# create training and test sets\n",
    "train_set, test_set = train_test_split(work_copy, test_size=0.2, random_state=27)"
   ]
  },
  {
   "cell_type": "code",
   "execution_count": 2,
   "id": "f2c98528-ba07-4690-8b2f-61ca4b8a2dda",
   "metadata": {},
   "outputs": [
    {
     "name": "stdout",
     "output_type": "stream",
     "text": [
      "<class 'pandas.core.frame.DataFrame'>\n",
      "Index: 11199 entries, 9899 to 5678\n",
      "Data columns (total 7 columns):\n",
      " #   Column        Non-Null Count  Dtype  \n",
      "---  ------        --------------  -----  \n",
      " 0   budget        11199 non-null  float64\n",
      " 1   genres        11199 non-null  object \n",
      " 2   vote_count    11199 non-null  float64\n",
      " 3   vote_average  11199 non-null  float64\n",
      " 4   revenue       11199 non-null  float64\n",
      " 5   runtime       11199 non-null  float64\n",
      " 6   genre_int     11199 non-null  int32  \n",
      "dtypes: float64(5), int32(1), object(1)\n",
      "memory usage: 656.2+ KB\n"
     ]
    }
   ],
   "source": [
    "train_set.info()"
   ]
  },
  {
   "cell_type": "code",
   "execution_count": 3,
   "id": "524f4ec2-39c0-44f2-bcd9-227547fea500",
   "metadata": {},
   "outputs": [],
   "source": [
    "from sklearn.decomposition import PCA\n",
    "from sklearn.pipeline import Pipeline\n",
    "from sklearn.svm import SVC\n",
    "import matplotlib.pyplot as plt\n",
    "import numpy as np"
   ]
  },
  {
   "cell_type": "code",
   "execution_count": 4,
   "id": "f8bc40c2-a54c-4643-bc38-5224c90c8429",
   "metadata": {},
   "outputs": [],
   "source": [
    "X = train_set[[\"vote_average\", \"revenue\", \"budget\", \"vote_count\",\"runtime\"]]\n",
    "y = train_set[\"genre_int\"]"
   ]
  },
  {
   "cell_type": "code",
   "execution_count": 5,
   "id": "2a99fc13-76f3-47d3-b146-0fec42ff88fa",
   "metadata": {},
   "outputs": [
    {
     "name": "stdout",
     "output_type": "stream",
     "text": [
      "[0.97634023 1.         1.         1.         1.        ]\n"
     ]
    },
    {
     "data": {
      "image/png": "[encoded data removed]",
      "text/plain": [
       "<Figure size 640x480 with 1 Axes>"
      ]
     },
     "metadata": {},
     "output_type": "display_data"
    }
   ],
   "source": [
    "pca = PCA()\n",
    "pca.fit(X)\n",
    "cumulative_sums = np.cumsum(pca.explained_variance_ratio_)\n",
    "\n",
    "d_values = [i+1 for i in range(0,len(cumulative_sums))]\n",
    "print(cumulative_sums)\n",
    "plt.plot(d_values, cumulative_sums)\n",
    "plt.show()\n"
   ]
  },
  {
   "cell_type": "markdown",
   "id": "dbf871b9-51ab-4792-a066-9f2f65849570",
   "metadata": {},
   "source": [
    "No Curve. The data either has too many duplicates, or maybe I don't have enough features for most of the features that I do have to reduce their impact on the variance below 1. Attempts were made to increase the number of features by a few, but everything remained 1 except for the first item.\n",
    "\n",
    "I will try with 3 values I can test: 1, 2, and 3."
   ]
  },
  {
   "cell_type": "code",
   "execution_count": 6,
   "id": "071166ac-71c6-4d6c-b1b7-b1230bc4b866",
   "metadata": {},
   "outputs": [
    {
     "name": "stderr",
     "output_type": "stream",
     "text": [
      "C:\\Users\\s539593\\Documents\\School\\DataScience\\ds-venv\\Lib\\site-packages\\sklearn\\svm\\_base.py:297: ConvergenceWarning: Solver terminated early (max_iter=500).  Consider pre-processing your data with StandardScaler or MinMaxScaler.\n",
      "  warnings.warn(\n"
     ]
    },
    {
     "name": "stdout",
     "output_type": "stream",
     "text": [
      "The accuracy is: 0.11733190463434236\n",
      "The f1 score is: 0.0567814210741613\n"
     ]
    }
   ],
   "source": [
    "MNIST_pca = PCA(n_components=3)\n",
    "MNIST_model = SVC(random_state = 555, max_iter=500, tol=0.1)\n",
    "\n",
    "myPipe = Pipeline([\n",
    "    ('pca', MNIST_pca),\n",
    "    ('svc', MNIST_model)\n",
    "])\n",
    "myPipe.fit(X, y)\n",
    "\n",
    "from sklearn.metrics import confusion_matrix\n",
    "y_pred = myPipe.predict(X)\n",
    "# matrix = confusion_matrix(y, y_pred)\n",
    "# matrix does not fit well\n",
    "# print(matrix)\n",
    "\n",
    "from sklearn.metrics import accuracy_score, f1_score\n",
    "acc_s = accuracy_score(y, y_pred)\n",
    "f1_s = f1_score(y, y_pred, average=\"weighted\")\n",
    "\n",
    "print(f\"The accuracy is: {acc_s}\")\n",
    "print(f\"The f1 score is: {f1_s}\")"
   ]
  },
  {
   "cell_type": "code",
   "execution_count": 7,
   "id": "56e17c0b-aec3-4426-bc85-3f471916feb0",
   "metadata": {},
   "outputs": [
    {
     "name": "stderr",
     "output_type": "stream",
     "text": [
      "C:\\Users\\s539593\\Documents\\School\\DataScience\\ds-venv\\Lib\\site-packages\\sklearn\\svm\\_base.py:297: ConvergenceWarning: Solver terminated early (max_iter=500).  Consider pre-processing your data with StandardScaler or MinMaxScaler.\n",
      "  warnings.warn(\n"
     ]
    },
    {
     "name": "stdout",
     "output_type": "stream",
     "text": [
      "The accuracy is: 0.11768907938208768\n",
      "The f1 score is: 0.0575556036841217\n"
     ]
    }
   ],
   "source": [
    "MNIST_pca = PCA(n_components=2)\n",
    "MNIST_model = SVC(random_state = 555, max_iter=500, tol=0.1)\n",
    "\n",
    "myPipe = Pipeline([\n",
    "    ('pca', MNIST_pca),\n",
    "    ('svc', MNIST_model)\n",
    "])\n",
    "myPipe.fit(X, y)\n",
    "\n",
    "from sklearn.metrics import confusion_matrix\n",
    "y_pred = myPipe.predict(X)\n",
    "# matrix = confusion_matrix(y, y_pred)\n",
    "# matrix does not fit well\n",
    "# print(matrix)\n",
    "\n",
    "from sklearn.metrics import accuracy_score, f1_score\n",
    "acc_s = accuracy_score(y, y_pred)\n",
    "f1_s = f1_score(y, y_pred, average=\"weighted\")\n",
    "\n",
    "print(f\"The accuracy is: {acc_s}\")\n",
    "print(f\"The f1 score is: {f1_s}\")\n"
   ]
  },
  {
   "cell_type": "code",
   "execution_count": 8,
   "id": "868ce8f9-188a-469e-b0f1-25f005961ee9",
   "metadata": {},
   "outputs": [
    {
     "name": "stderr",
     "output_type": "stream",
     "text": [
      "C:\\Users\\s539593\\Documents\\School\\DataScience\\ds-venv\\Lib\\site-packages\\sklearn\\svm\\_base.py:297: ConvergenceWarning: Solver terminated early (max_iter=500).  Consider pre-processing your data with StandardScaler or MinMaxScaler.\n",
      "  warnings.warn(\n"
     ]
    },
    {
     "name": "stdout",
     "output_type": "stream",
     "text": [
      "The accuracy is: 0.1456380033931601\n",
      "The f1 score is: 0.08608145698860405\n"
     ]
    }
   ],
   "source": [
    "MNIST_pca = PCA(n_components=1)\n",
    "MNIST_model = SVC(random_state = 555, max_iter=500, tol=0.1)\n",
    "\n",
    "myPipe = Pipeline([\n",
    "    ('pca', MNIST_pca),\n",
    "    ('svc', MNIST_model)\n",
    "])\n",
    "myPipe.fit(X, y)\n",
    "\n",
    "from sklearn.metrics import confusion_matrix\n",
    "y_pred = myPipe.predict(X)\n",
    "# matrix = confusion_matrix(y, y_pred)\n",
    "# matrix does not fit well\n",
    "# print(matrix)\n",
    "\n",
    "from sklearn.metrics import accuracy_score, f1_score\n",
    "acc_s = accuracy_score(y, y_pred)\n",
    "f1_s = f1_score(y, y_pred, average=\"weighted\")\n",
    "\n",
    "print(f\"The accuracy is: {acc_s}\")\n",
    "print(f\"The f1 score is: {f1_s}\")"
   ]
  },
  {
   "cell_type": "code",
   "execution_count": 21,
   "id": "bfdfce7d-0b8b-4d5c-b1a0-be4a1350cd74",
   "metadata": {},
   "outputs": [
    {
     "name": "stdout",
     "output_type": "stream",
     "text": [
      "The accuracy is: 0.45343334226270204\n",
      "The f1 score is: 0.40265602126294187\n"
     ]
    }
   ],
   "source": [
    "from sklearn.tree import DecisionTreeClassifier\n",
    "MNIST_pca = PCA(n_components=3)\n",
    "MNIST_model = DecisionTreeClassifier()\n",
    "\n",
    "X = train_set[[\"vote_average\", \"revenue\", \"budget\", \"vote_count\",\"runtime\"]]\n",
    "y = train_set[\"genre_int\"]\n",
    "\n",
    "myPipe = Pipeline([\n",
    "    ('pca', MNIST_pca),\n",
    "    ('svc', MNIST_model)\n",
    "])\n",
    "myPipe.fit(X, y)\n",
    "\n",
    "from sklearn.metrics import confusion_matrix\n",
    "y_pred = myPipe.predict(X)\n",
    "# matrix = confusion_matrix(y, y_pred)\n",
    "# matrix does not fit well\n",
    "# print(matrix)\n",
    "\n",
    "from sklearn.metrics import accuracy_score, f1_score\n",
    "acc_s = accuracy_score(y, y_pred)\n",
    "f1_s = f1_score(y, y_pred, average=\"weighted\")\n",
    "\n",
    "print(f\"The accuracy is: {acc_s}\")\n",
    "print(f\"The f1 score is: {f1_s}\")"
   ]
  },
  {
   "cell_type": "markdown",
   "id": "9f388115-87b4-41c6-8668-5506404a0725",
   "metadata": {},
   "source": [
    "Do to the lack of features being tested, most of them are objects. The result of analysis of PCA on an SVC rbf model and a decision tree both have very little if no effect on the accuracy and f1-score. Any difference seen may be inconsistencies with features being tested."
   ]
  },
  {
   "cell_type": "code",
   "execution_count": null,
   "id": "3bcf342d-abb0-4fcf-b556-d2fcd00c33f2",
   "metadata": {},
   "outputs": [],
   "source": []
  }
 ],
 "metadata": {
  "kernelspec": {
   "display_name": "Python 3 (ipykernel)",
   "language": "python",
   "name": "python3"
  },
  "language_info": {
   "codemirror_mode": {
    "name": "ipython",
    "version": 3
   },
   "file_extension": ".py",
   "mimetype": "text/x-python",
   "name": "python",
   "nbconvert_exporter": "python",
   "pygments_lexer": "ipython3",
   "version": "3.11.4"
  }
 },
 "nbformat": 4,
 "nbformat_minor": 5
}
