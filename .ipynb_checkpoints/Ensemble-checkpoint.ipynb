{
 "cells": [
  {
   "cell_type": "code",
   "execution_count": 1,
   "id": "d28a1104-5041-48fd-9ea8-2a3c3b5eb897",
   "metadata": {},
   "outputs": [],
   "source": [
    "import pandas as pd\n",
    "from ast import literal_eval\n",
    "from sklearn.model_selection import train_test_split\n",
    "\n",
    "# read from file\n",
    "data_frame = pd.read_csv(\"../ProjectResources/movies/movies_metadata.csv\", low_memory=False)\n",
    "\n",
    "#create working copy\n",
    "work_copy = data_frame.copy()\n",
    "work_copy['budget'] = pd.to_numeric(work_copy['budget'], errors='coerce')\n",
    "\n",
    "# clean the data\n",
    "work_copy.dropna(axis='index', how='any', subset=['budget','vote_count','vote_average', 'revenue', 'genres'], inplace=True)\n",
    "work_copy = work_copy[['budget','genres','vote_count', 'vote_average', 'revenue']]\n",
    "# drop data with bad values\n",
    "work_copy = work_copy.drop(work_copy[work_copy.revenue == 0].index)\n",
    "work_copy = work_copy.drop(work_copy[work_copy.budget == 0].index)\n",
    "work_copy = work_copy.drop(work_copy[work_copy.vote_count == 0].index)\n",
    "\n",
    "# oject under genres can have multiple values, expand the dataset by creating multiple rows for the\n",
    "# same movie but with a single genre. These single genre items will be in {id: #, name: \"genre_name\"} format\n",
    "work_copy['genres'] = work_copy['genres'].apply(literal_eval)\n",
    "work_copy = work_copy.explode(\"genres\")\n",
    "work_copy.dropna(axis='index', how='any', subset=['genres'], inplace=True)\n",
    "work_copy['genres'] = [d.get('name') for d in work_copy['genres']]\n",
    "\n",
    "# Encode the genres into integers.\n",
    "from sklearn.preprocessing import LabelEncoder\n",
    "work_copy['genre_int'] = LabelEncoder().fit_transform(work_copy['genres'])\n",
    "\n",
    "# create training and test sets\n",
    "train_set, test_set = train_test_split(work_copy, test_size=0.2, random_state=27)"
   ]
  },
  {
   "cell_type": "code",
   "execution_count": 2,
   "id": "0f6ff013-2e68-4e9c-9ef4-2abe84c81eef",
   "metadata": {},
   "outputs": [
    {
     "name": "stdout",
     "output_type": "stream",
     "text": [
      "<class 'pandas.core.frame.DataFrame'>\n",
      "Index: 11200 entries, 10445 to 5678\n",
      "Data columns (total 6 columns):\n",
      " #   Column        Non-Null Count  Dtype  \n",
      "---  ------        --------------  -----  \n",
      " 0   budget        11200 non-null  float64\n",
      " 1   genres        11200 non-null  object \n",
      " 2   vote_count    11200 non-null  float64\n",
      " 3   vote_average  11200 non-null  float64\n",
      " 4   revenue       11200 non-null  float64\n",
      " 5   genre_int     11200 non-null  int32  \n",
      "dtypes: float64(4), int32(1), object(1)\n",
      "memory usage: 568.8+ KB\n"
     ]
    }
   ],
   "source": [
    "train_set.info()"
   ]
  },
  {
   "cell_type": "code",
   "execution_count": 3,
   "id": "7cf23e36-e1c1-44ee-96a8-1d33b57b0546",
   "metadata": {},
   "outputs": [],
   "source": [
    "from sklearn.pipeline import Pipeline\n",
    "from sklearn.preprocessing import PolynomialFeatures\n",
    "from sklearn.preprocessing import StandardScaler\n",
    "from sklearn.svm import SVC\n",
    "\n",
    "model = Pipeline([\n",
    "    ('addQuad', PolynomialFeatures(degree=2)),\n",
    "    ('scale', StandardScaler()),\n",
    "    ('svm', SVC())\n",
    "    ]\n",
    ")"
   ]
  },
  {
   "cell_type": "code",
   "execution_count": 4,
   "id": "468c68ac-c632-49d7-96b3-5383040df0f3",
   "metadata": {},
   "outputs": [],
   "source": [
    "from sklearn.linear_model import LogisticRegression\n",
    "from sklearn.svm import SVC\n",
    "from sklearn.ensemble import RandomForestClassifier\n",
    "from sklearn.ensemble import VotingClassifier\n",
    "from sklearn.tree import DecisionTreeClassifier\n",
    "\n",
    "# model_logreg = LogisticRegression(solver=\"lbfgs\")\n",
    "model_svm = SVC(kernel=\"rbf\")\n",
    "model_random_forest = RandomForestClassifier(n_estimators=10)\n",
    "model_decision_tree = DecisionTreeClassifier()\n",
    "\n",
    "ensemble = VotingClassifier(\n",
    "    voting= \"hard\",\n",
    "    estimators = [\n",
    "        # (\"logreg\", model_logreg),\n",
    "        (\"svm\", model_svm),\n",
    "        (\"randfor\", model_random_forest),\n",
    "        (\"desitree\", model_decision_tree),\n",
    "        ('quad', model)\n",
    "    ]\n",
    ")"
   ]
  },
  {
   "cell_type": "code",
   "execution_count": 5,
   "id": "652b00a6-554d-4a0d-8b38-d5ce5b4aa244",
   "metadata": {},
   "outputs": [
    {
     "name": "stdout",
     "output_type": "stream",
     "text": [
      "Ensemble has accuracy  0.34767857142857145\n",
      "Ensemble has f1_score  0.2739685285306988\n",
      "Ensemble on test has accuracy  0.5382142857142858\n",
      "Ensemble on test has f1_score  0.49411284067516614\n"
     ]
    }
   ],
   "source": [
    "from sklearn.metrics import accuracy_score, f1_score\n",
    "X = train_set[[\"vote_average\", \"revenue\", \"budget\", \"vote_count\"]]\n",
    "y = train_set['genre_int']\n",
    "\n",
    "ensemble.fit(X, y)\n",
    "y_pred = ensemble.predict(X)\n",
    "print(\"Ensemble has accuracy \", accuracy_score(y, y_pred))\n",
    "print(\"Ensemble has f1_score \", f1_score(y, y_pred, average=\"weighted\"))\n",
    "\n",
    "X_test = test_set[[\"vote_average\", \"revenue\", \"budget\", \"vote_count\"]]\n",
    "y_test = test_set['genre_int']\n",
    "\n",
    "ensemble = ensemble = VotingClassifier(\n",
    "    voting= \"hard\",\n",
    "    estimators = [\n",
    "        # (\"logreg\", model_logreg),\n",
    "        (\"svm\", model_svm),\n",
    "        (\"randfor\", model_random_forest),\n",
    "        (\"desitree\", model_decision_tree),\n",
    "        ('quad', model)\n",
    "    ]\n",
    ")\n",
    "ensemble.fit(X_test, y_test)\n",
    "y_test_pred = ensemble.predict(X_test)\n",
    "print(\"Ensemble on test has accuracy \", accuracy_score(y_test, y_test_pred))\n",
    "print(\"Ensemble on test has f1_score \", f1_score(y_test, y_test_pred, average=\"weighted\"))"
   ]
  },
  {
   "cell_type": "markdown",
   "id": "e318801e-ec24-42a8-b712-67ca72ebbc30",
   "metadata": {},
   "source": [
    "The ensemble built from the Voting classifier performs in the midrange of the models tested overall. Based on the results below the data has to be a bit skewed on the test set. In the linear decision tree analysis vs svc it is shown that svc is not good at predicting most genres, but it does ok predicting a few of them.w"
   ]
  },
  {
   "cell_type": "code",
   "execution_count": 19,
   "id": "a8277d5f-0443-48f3-9e17-36ebcbf5aa12",
   "metadata": {},
   "outputs": [
    {
     "name": "stdout",
     "output_type": "stream",
     "text": [
      "One train set\n",
      "SVC  has accuracy  0.19955357142857144\n",
      "SVC  has f1_score  0.09515548506853343\n"
     ]
    },
    {
     "name": "stderr",
     "output_type": "stream",
     "text": [
      "C:\\Users\\s539593\\Documents\\School\\DataScience\\ds-venv\\Lib\\site-packages\\sklearn\\metrics\\_classification.py:1497: UndefinedMetricWarning: Precision is ill-defined and being set to 0.0 in labels with no predicted samples. Use `zero_division` parameter to control this behavior.\n",
      "  _warn_prf(average, modifier, f\"{metric.capitalize()} is\", len(result))\n",
      "C:\\Users\\s539593\\Documents\\School\\DataScience\\ds-venv\\Lib\\site-packages\\sklearn\\metrics\\_classification.py:1497: UndefinedMetricWarning: Precision is ill-defined and being set to 0.0 in labels with no predicted samples. Use `zero_division` parameter to control this behavior.\n",
      "  _warn_prf(average, modifier, f\"{metric.capitalize()} is\", len(result))\n",
      "C:\\Users\\s539593\\Documents\\School\\DataScience\\ds-venv\\Lib\\site-packages\\sklearn\\metrics\\_classification.py:1497: UndefinedMetricWarning: Precision is ill-defined and being set to 0.0 in labels with no predicted samples. Use `zero_division` parameter to control this behavior.\n",
      "  _warn_prf(average, modifier, f\"{metric.capitalize()} is\", len(result))\n"
     ]
    },
    {
     "name": "stdout",
     "output_type": "stream",
     "text": [
      "RandomForestClassifier  has accuracy  0.4524107142857143\n",
      "RandomForestClassifier  has f1_score  0.45145415295485186\n",
      "DecisionTreeClassifier  has accuracy  0.4533035714285714\n",
      "DecisionTreeClassifier  has f1_score  0.4014888659594106\n"
     ]
    },
    {
     "name": "stderr",
     "output_type": "stream",
     "text": [
      "C:\\Users\\s539593\\Documents\\School\\DataScience\\ds-venv\\Lib\\site-packages\\sklearn\\metrics\\_classification.py:1497: UndefinedMetricWarning: Precision is ill-defined and being set to 0.0 in labels with no predicted samples. Use `zero_division` parameter to control this behavior.\n",
      "  _warn_prf(average, modifier, f\"{metric.capitalize()} is\", len(result))\n",
      "C:\\Users\\s539593\\Documents\\School\\DataScience\\ds-venv\\Lib\\site-packages\\sklearn\\metrics\\_classification.py:1497: UndefinedMetricWarning: Precision is ill-defined and being set to 0.0 in labels with no predicted samples. Use `zero_division` parameter to control this behavior.\n",
      "  _warn_prf(average, modifier, f\"{metric.capitalize()} is\", len(result))\n",
      "C:\\Users\\s539593\\Documents\\School\\DataScience\\ds-venv\\Lib\\site-packages\\sklearn\\metrics\\_classification.py:1497: UndefinedMetricWarning: Precision is ill-defined and being set to 0.0 in labels with no predicted samples. Use `zero_division` parameter to control this behavior.\n",
      "  _warn_prf(average, modifier, f\"{metric.capitalize()} is\", len(result))\n",
      "C:\\Users\\s539593\\Documents\\School\\DataScience\\ds-venv\\Lib\\site-packages\\sklearn\\metrics\\_classification.py:1497: UndefinedMetricWarning: Precision is ill-defined and being set to 0.0 in labels with no predicted samples. Use `zero_division` parameter to control this behavior.\n",
      "  _warn_prf(average, modifier, f\"{metric.capitalize()} is\", len(result))\n",
      "C:\\Users\\s539593\\Documents\\School\\DataScience\\ds-venv\\Lib\\site-packages\\sklearn\\metrics\\_classification.py:1497: UndefinedMetricWarning: Precision is ill-defined and being set to 0.0 in labels with no predicted samples. Use `zero_division` parameter to control this behavior.\n",
      "  _warn_prf(average, modifier, f\"{metric.capitalize()} is\", len(result))\n",
      "C:\\Users\\s539593\\Documents\\School\\DataScience\\ds-venv\\Lib\\site-packages\\sklearn\\metrics\\_classification.py:1497: UndefinedMetricWarning: Precision is ill-defined and being set to 0.0 in labels with no predicted samples. Use `zero_division` parameter to control this behavior.\n",
      "  _warn_prf(average, modifier, f\"{metric.capitalize()} is\", len(result))\n"
     ]
    },
    {
     "name": "stdout",
     "output_type": "stream",
     "text": [
      "Pipeline  has accuracy  0.225625\n",
      "Pipeline  has f1_score  0.1355428957138484\n",
      "\n",
      "One Test set\n"
     ]
    },
    {
     "name": "stderr",
     "output_type": "stream",
     "text": [
      "C:\\Users\\s539593\\Documents\\School\\DataScience\\ds-venv\\Lib\\site-packages\\sklearn\\metrics\\_classification.py:1497: UndefinedMetricWarning: Precision is ill-defined and being set to 0.0 in labels with no predicted samples. Use `zero_division` parameter to control this behavior.\n",
      "  _warn_prf(average, modifier, f\"{metric.capitalize()} is\", len(result))\n",
      "C:\\Users\\s539593\\Documents\\School\\DataScience\\ds-venv\\Lib\\site-packages\\sklearn\\metrics\\_classification.py:1497: UndefinedMetricWarning: Precision is ill-defined and being set to 0.0 in labels with no predicted samples. Use `zero_division` parameter to control this behavior.\n",
      "  _warn_prf(average, modifier, f\"{metric.capitalize()} is\", len(result))\n",
      "C:\\Users\\s539593\\Documents\\School\\DataScience\\ds-venv\\Lib\\site-packages\\sklearn\\metrics\\_classification.py:1497: UndefinedMetricWarning: Precision is ill-defined and being set to 0.0 in labels with no predicted samples. Use `zero_division` parameter to control this behavior.\n",
      "  _warn_prf(average, modifier, f\"{metric.capitalize()} is\", len(result))\n"
     ]
    },
    {
     "name": "stdout",
     "output_type": "stream",
     "text": [
      "SVC  on test has accuracy  0.5382142857142858\n",
      "SVC  on test has f1_score  0.49411284067516614\n",
      "RandomForestClassifier  on test has accuracy  0.5382142857142858\n",
      "RandomForestClassifier  on test has f1_score  0.49411284067516614\n",
      "DecisionTreeClassifier  on test has accuracy  0.5382142857142858\n",
      "DecisionTreeClassifier  on test has f1_score  0.49411284067516614\n",
      "Pipeline  on test has accuracy  0.5382142857142858\n",
      "Pipeline  on test has f1_score  0.49411284067516614\n"
     ]
    }
   ],
   "source": [
    "from sklearn.metrics import accuracy_score, f1_score, classification_report\n",
    "\n",
    "train_f1_scores = {}\n",
    "train_accuracy_scores = {}\n",
    "reports = {}\n",
    "print(\"One train set\")\n",
    "for classifier in [model_svm, model_random_forest, model_decision_tree, model]:\n",
    "    classifier.fit(X, y)\n",
    "    y_pred = classifier.predict(X)\n",
    "    \n",
    "    acc = accuracy_score(y, y_pred)\n",
    "    f1 = f1_score(y, y_pred, average=\"weighted\")\n",
    "    name = classifier.__class__.__name__\n",
    "    train_accuracy_scores[name] = acc\n",
    "    train_f1_scores[name] = f1\n",
    "    \n",
    "     \n",
    "    print(classifier.__class__.__name__, \" has accuracy \", acc)\n",
    "    print(classifier.__class__.__name__, \" has f1_score \", f1)\n",
    "    reports[name] = (classification_report(y, y_pred, output_dict= True))\n",
    "\n",
    "print()\n",
    "print(\"One Test set\")\n",
    "for classifier in [model_svm, model_random_forest, model_decision_tree, model]:\n",
    "    classifier.fit(X_test, y_test)\n",
    "    y__test_pred = classifier.predict(X_test)\n",
    "\n",
    "    print(classifier.__class__.__name__, \" on test has accuracy \", accuracy_score(y_test, y_test_pred))\n",
    "    print(classifier.__class__.__name__, \" on test has f1_score \", f1_score(y_test, y_test_pred, average=\"weighted\"))\n",
    "    \n",
    "    "
   ]
  },
  {
   "cell_type": "markdown",
   "id": "b83b0016-5ecd-435a-bfb6-64d452056b3e",
   "metadata": {},
   "source": [
    "The random forest and decision tree models outperfom all other models tested. At lower input sizes the descision tree performs similar to random forest, but as the data size grows random forest outperforms decision tree. This is because random forest performs multiple decision trees and tries to take the best result."
   ]
  },
  {
   "cell_type": "code",
   "execution_count": 15,
   "id": "18ca2d93-d36e-4c84-91ec-17207f94c953",
   "metadata": {},
   "outputs": [
    {
     "data": {
      "image/png": "[encoded data removed]",
      "text/plain": [
       "<Figure size 1280x880 with 1 Axes>"
      ]
     },
     "metadata": {},
     "output_type": "display_data"
    }
   ],
   "source": [
    "import matplotlib.pyplot as plt\n",
    "fig, plot = plt.subplots()\n",
    "plt.style.use('seaborn-v0_8-pastel')\n",
    "plt.style.use('seaborn-v0_8-poster')\n",
    "y_pos = [i for i in range(len(train_f1_scores))]\n",
    "plot.barh(y_pos, [train_f1_scores[c] for c in train_f1_scores])\n",
    "plot.set_yticks(y_pos, [c if c != \"Pipeline\" else \"Quadratic\" for c in train_f1_scores])\n",
    "plot.set_title(\"F1 Scores by Model\")\n",
    "plt.savefig(\"F1ScoreByModel\", bbox_inches=\"tight\")"
   ]
  },
  {
   "cell_type": "code",
   "execution_count": 72,
   "id": "439b0789-8ff1-498a-89ad-b99bce532b10",
   "metadata": {},
   "outputs": [
    {
     "name": "stdout",
     "output_type": "stream",
     "text": [
      "0.40418118466898956\n",
      "<class 'str'>\n",
      "precision\n",
      "recall\n",
      "f1-score\n",
      "support\n",
      "<class 'str'>\n",
      "precision\n",
      "recall\n",
      "f1-score\n",
      "support\n",
      "<class 'str'>\n",
      "precision\n",
      "recall\n",
      "f1-score\n",
      "support\n",
      "<class 'str'>\n",
      "precision\n",
      "recall\n",
      "f1-score\n",
      "support\n",
      "<class 'str'>\n",
      "precision\n",
      "recall\n",
      "f1-score\n",
      "support\n",
      "<class 'str'>\n",
      "precision\n",
      "recall\n",
      "f1-score\n",
      "support\n",
      "<class 'str'>\n",
      "precision\n",
      "recall\n",
      "f1-score\n",
      "support\n",
      "<class 'str'>\n",
      "precision\n",
      "recall\n",
      "f1-score\n",
      "support\n",
      "<class 'str'>\n",
      "precision\n",
      "recall\n",
      "f1-score\n",
      "support\n",
      "<class 'str'>\n",
      "precision\n",
      "recall\n",
      "f1-score\n",
      "support\n",
      "<class 'str'>\n",
      "precision\n",
      "recall\n",
      "f1-score\n",
      "support\n",
      "<class 'str'>\n",
      "precision\n",
      "recall\n",
      "f1-score\n",
      "support\n",
      "<class 'str'>\n",
      "precision\n",
      "recall\n",
      "f1-score\n",
      "support\n",
      "<class 'str'>\n",
      "precision\n",
      "recall\n",
      "f1-score\n",
      "support\n",
      "<class 'str'>\n",
      "precision\n",
      "recall\n",
      "f1-score\n",
      "support\n",
      "<class 'str'>\n",
      "precision\n",
      "recall\n",
      "f1-score\n",
      "support\n",
      "<class 'str'>\n",
      "precision\n",
      "recall\n",
      "f1-score\n",
      "support\n",
      "<class 'str'>\n",
      "precision\n",
      "recall\n",
      "f1-score\n",
      "support\n",
      "<class 'str'>\n",
      "precision\n",
      "recall\n",
      "f1-score\n",
      "support\n",
      "<class 'str'>\n",
      "precision\n",
      "recall\n",
      "f1-score\n",
      "support\n",
      "<class 'str'>\n"
     ]
    },
    {
     "ename": "TypeError",
     "evalue": "object of type 'float' has no len()",
     "output_type": "error",
     "traceback": [
      "\u001b[1;31m---------------------------------------------------------------------------\u001b[0m",
      "\u001b[1;31mTypeError\u001b[0m                                 Traceback (most recent call last)",
      "Cell \u001b[1;32mIn[72], line 9\u001b[0m\n\u001b[0;32m      7\u001b[0m \u001b[38;5;28;01mfor\u001b[39;00m i \u001b[38;5;129;01min\u001b[39;00m class_dict:\n\u001b[0;32m      8\u001b[0m     \u001b[38;5;28mprint\u001b[39m(\u001b[38;5;28mtype\u001b[39m(i))\n\u001b[1;32m----> 9\u001b[0m     \u001b[38;5;28;01mif\u001b[39;00m \u001b[38;5;28mlen\u001b[39m(class_dict[i]) \u001b[38;5;241m==\u001b[39m \u001b[38;5;241m1\u001b[39m:\n\u001b[0;32m     10\u001b[0m            \u001b[38;5;28mprint\u001b[39m(class_dict[i])\n\u001b[0;32m     11\u001b[0m     \u001b[38;5;28;01melse\u001b[39;00m:\n",
      "\u001b[1;31mTypeError\u001b[0m: object of type 'float' has no len()"
     ]
    }
   ],
   "source": [
    "from pprint import pprint\n",
    "import matplotlib.pyplot as plt\n",
    "class_dict = reports[\"RandomForestClassifier\"]\n",
    "# pprint(class_dict)\n",
    "# print(class_dict.keys())\n",
    "print(class_dict[\"0\"]['f1-score'])\n",
    "for i in class_dict:\n",
    "    print(type(i))\n",
    "    if len(class_dict[i]) == 1:\n",
    "           print(class_dict[i])\n",
    "    else:\n",
    "        for x in class_dict[str(i)]:\n",
    "            print(x)\n",
    "\n",
    "fig, plot = plt.subplots()\n",
    "plt.style.use('seaborn-v0_8-pastel')\n",
    "plt.style.use('seaborn-v0_8-poster')\n",
    "y_pos = [i for i in range(len(class_dict))]\n",
    "plot.barh(y_pos, [class_dict[i]['f1-score'] for i in class_dict])\n",
    "plot.set_yticks(y_pos, [i for i in class_dict])\n",
    "plot.set_title(\"F1 Score Per Genre\")\n",
    "plt.savefig(\"F1ScorePerGenre\", bbox_inches=\"tight\")"
   ]
  },
  {
   "cell_type": "code",
   "execution_count": null,
   "id": "6a7221a0-b189-4e8f-abc4-fd63dcdaff05",
   "metadata": {},
   "outputs": [],
   "source": []
  },
  {
   "cell_type": "code",
   "execution_count": null,
   "id": "67192bcd-7e1f-45a4-9a1e-0c6a147d6c00",
   "metadata": {},
   "outputs": [],
   "source": []
  }
 ],
 "metadata": {
  "kernelspec": {
   "display_name": "Python 3 (ipykernel)",
   "language": "python",
   "name": "python3"
  },
  "language_info": {
   "codemirror_mode": {
    "name": "ipython",
    "version": 3
   },
   "file_extension": ".py",
   "mimetype": "text/x-python",
   "name": "python",
   "nbconvert_exporter": "python",
   "pygments_lexer": "ipython3",
   "version": "3.11.4"
  }
 },
 "nbformat": 4,
 "nbformat_minor": 5
}
