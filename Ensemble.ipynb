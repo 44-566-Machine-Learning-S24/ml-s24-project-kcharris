{
 "cells": [
  {
   "cell_type": "code",
   "execution_count": 1,
   "id": "d28a1104-5041-48fd-9ea8-2a3c3b5eb897",
   "metadata": {},
   "outputs": [],
   "source": [
    "import pandas as pd\n",
    "from ast import literal_eval\n",
    "from sklearn.model_selection import train_test_split\n",
    "\n",
    "# read from file\n",
    "data_frame = pd.read_csv(\"../ProjectResources/movies/movies_metadata.csv\", low_memory=False)\n",
    "\n",
    "#create working copy\n",
    "work_copy = data_frame.copy()\n",
    "work_copy['budget'] = pd.to_numeric(work_copy['budget'], errors='coerce')\n",
    "\n",
    "# clean the data\n",
    "work_copy.dropna(axis='index', how='any', subset=['budget','vote_count','vote_average', 'revenue', 'genres'], inplace=True)\n",
    "work_copy = work_copy[['budget','genres','vote_count', 'vote_average', 'revenue']]\n",
    "# drop data with bad values\n",
    "work_copy = work_copy.drop(work_copy[work_copy.revenue == 0].index)\n",
    "work_copy = work_copy.drop(work_copy[work_copy.budget == 0].index)\n",
    "work_copy = work_copy.drop(work_copy[work_copy.vote_count == 0].index)\n",
    "\n",
    "# oject under genres can have multiple values, expand the dataset by creating multiple rows for the\n",
    "# same movie but with a single genre. These single genre items will be in {id: #, name: \"genre_name\"} format\n",
    "work_copy['genres'] = work_copy['genres'].apply(literal_eval)\n",
    "work_copy = work_copy.explode(\"genres\")\n",
    "work_copy.dropna(axis='index', how='any', subset=['genres'], inplace=True)\n",
    "work_copy['genres'] = [d.get('name') for d in work_copy['genres']]\n",
    "\n",
    "# Encode the genres into integers.\n",
    "from sklearn.preprocessing import LabelEncoder\n",
    "work_copy['genre_int'] = LabelEncoder().fit_transform(work_copy['genres'])\n",
    "\n",
    "# create training and test sets\n",
    "train_set, test_set = train_test_split(work_copy, test_size=0.2, random_state=27)"
   ]
  },
  {
   "cell_type": "code",
   "execution_count": 2,
   "id": "7cf23e36-e1c1-44ee-96a8-1d33b57b0546",
   "metadata": {},
   "outputs": [],
   "source": [
    "from sklearn.pipeline import Pipeline\n",
    "from sklearn.preprocessing import PolynomialFeatures\n",
    "from sklearn.preprocessing import StandardScaler\n",
    "from sklearn.svm import SVC\n",
    "\n",
    "model = Pipeline([\n",
    "    ('addQuad', PolynomialFeatures(degree=2)),\n",
    "    ('scale', StandardScaler()),\n",
    "    ('svm', SVC())\n",
    "    ]\n",
    ")"
   ]
  },
  {
   "cell_type": "code",
   "execution_count": 3,
   "id": "468c68ac-c632-49d7-96b3-5383040df0f3",
   "metadata": {},
   "outputs": [],
   "source": [
    "from sklearn.linear_model import LogisticRegression\n",
    "from sklearn.svm import SVC\n",
    "from sklearn.ensemble import RandomForestClassifier\n",
    "from sklearn.ensemble import VotingClassifier\n",
    "from sklearn.tree import DecisionTreeClassifier\n",
    "\n",
    "# model_logreg = LogisticRegression(solver=\"lbfgs\")\n",
    "model_svm = SVC(kernel=\"rbf\")\n",
    "model_random_forest = RandomForestClassifier(n_estimators=10)\n",
    "model_decision_tree = DecisionTreeClassifier()\n",
    "\n",
    "ensemble = VotingClassifier(\n",
    "    voting= \"hard\",\n",
    "    estimators = [\n",
    "        # (\"logreg\", model_logreg),\n",
    "        (\"svm\", model_svm),\n",
    "        (\"randfor\", model_random_forest),\n",
    "        (\"desitree\", model_decision_tree),\n",
    "        ('quad', model)\n",
    "    ]\n",
    ")"
   ]
  },
  {
   "cell_type": "code",
   "execution_count": 4,
   "id": "652b00a6-554d-4a0d-8b38-d5ce5b4aa244",
   "metadata": {},
   "outputs": [
    {
     "name": "stdout",
     "output_type": "stream",
     "text": [
      "Ensemble has accuracy  0.3460714285714286\n",
      "Ensemble has f1_score  0.2721182570622817\n",
      "Ensemble on test has accuracy  0.5392857142857143\n",
      "Ensemble on test has f1_score  0.49371688364882094\n"
     ]
    }
   ],
   "source": [
    "from sklearn.metrics import accuracy_score, f1_score\n",
    "X = train_set[[\"vote_average\", \"revenue\", \"budget\", \"vote_count\"]]\n",
    "y = train_set['genre_int']\n",
    "\n",
    "ensemble.fit(X, y)\n",
    "y_pred = ensemble.predict(X)\n",
    "print(\"Ensemble has accuracy \", accuracy_score(y, y_pred))\n",
    "print(\"Ensemble has f1_score \", f1_score(y, y_pred, average=\"weighted\"))\n",
    "\n",
    "X_test = test_set[[\"vote_average\", \"revenue\", \"budget\", \"vote_count\"]]\n",
    "y_test = test_set['genre_int']\n",
    "\n",
    "ensemble = ensemble = VotingClassifier(\n",
    "    voting= \"hard\",\n",
    "    estimators = [\n",
    "        # (\"logreg\", model_logreg),\n",
    "        (\"svm\", model_svm),\n",
    "        (\"randfor\", model_random_forest),\n",
    "        (\"desitree\", model_decision_tree),\n",
    "        ('quad', model)\n",
    "    ]\n",
    ")\n",
    "ensemble.fit(X_test, y_test)\n",
    "y_test_pred = ensemble.predict(X_test)\n",
    "print(\"Ensemble on test has accuracy \", accuracy_score(y_test, y_test_pred))\n",
    "print(\"Ensemble on test has f1_score \", f1_score(y_test, y_test_pred, average=\"weighted\"))"
   ]
  },
  {
   "cell_type": "markdown",
   "id": "e318801e-ec24-42a8-b712-67ca72ebbc30",
   "metadata": {},
   "source": [
    "The ensemble built from the Voting classifier performs in the midrange of the models tested overall. "
   ]
  },
  {
   "cell_type": "code",
   "execution_count": 5,
   "id": "a8277d5f-0443-48f3-9e17-36ebcbf5aa12",
   "metadata": {},
   "outputs": [
    {
     "name": "stdout",
     "output_type": "stream",
     "text": [
      "One train set\n",
      "SVC  has accuracy  0.19955357142857144\n",
      "SVC  has f1_score  0.09515548506853343\n",
      "RandomForestClassifier  has accuracy  0.4523214285714286\n",
      "RandomForestClassifier  has f1_score  0.45109121540882713\n",
      "DecisionTreeClassifier  has accuracy  0.4533035714285714\n",
      "DecisionTreeClassifier  has f1_score  0.4014888659594106\n",
      "Pipeline  has accuracy  0.225625\n",
      "Pipeline  has f1_score  0.1355428957138484\n",
      "\n",
      "One Test set\n",
      "SVC  on test has accuracy  0.5392857142857143\n",
      "SVC  on test has f1_score  0.49371688364882094\n",
      "RandomForestClassifier  on test has accuracy  0.5392857142857143\n",
      "RandomForestClassifier  on test has f1_score  0.49371688364882094\n",
      "DecisionTreeClassifier  on test has accuracy  0.5392857142857143\n",
      "DecisionTreeClassifier  on test has f1_score  0.49371688364882094\n",
      "Pipeline  on test has accuracy  0.5392857142857143\n",
      "Pipeline  on test has f1_score  0.49371688364882094\n"
     ]
    }
   ],
   "source": [
    "print(\"One train set\")\n",
    "for classifier in [model_svm, model_random_forest, model_decision_tree, model]:\n",
    "    classifier.fit(X, y)\n",
    "    y_pred = classifier.predict(X)\n",
    "\n",
    "    print(classifier.__class__.__name__, \" has accuracy \", accuracy_score(y, y_pred))\n",
    "    print(classifier.__class__.__name__, \" has f1_score \", f1_score(y, y_pred, average=\"weighted\"))\n",
    "\n",
    "print()\n",
    "print(\"One Test set\")\n",
    "for classifier in [model_svm, model_random_forest, model_decision_tree, model]:\n",
    "    classifier.fit(X_test, y_test)\n",
    "    y__test_pred = classifier.predict(X_test)\n",
    "\n",
    "    print(classifier.__class__.__name__, \" on test has accuracy \", accuracy_score(y_test, y_test_pred))\n",
    "    print(classifier.__class__.__name__, \" on test has f1_score \", f1_score(y_test, y_test_pred, average=\"weighted\"))\n",
    "    \n",
    "    "
   ]
  },
  {
   "cell_type": "code",
   "execution_count": null,
   "id": "ec4eeec0-ec0b-4506-801c-3ebaca41c706",
   "metadata": {},
   "outputs": [],
   "source": []
  }
 ],
 "metadata": {
  "kernelspec": {
   "display_name": "Python 3 (ipykernel)",
   "language": "python",
   "name": "python3"
  },
  "language_info": {
   "codemirror_mode": {
    "name": "ipython",
    "version": 3
   },
   "file_extension": ".py",
   "mimetype": "text/x-python",
   "name": "python",
   "nbconvert_exporter": "python",
   "pygments_lexer": "ipython3",
   "version": "3.11.4"
  }
 },
 "nbformat": 4,
 "nbformat_minor": 5
}
