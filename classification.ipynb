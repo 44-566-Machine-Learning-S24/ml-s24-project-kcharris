{
 "cells": [
  {
   "cell_type": "markdown",
   "id": "ccf37545-1cf8-4b09-a512-7b7d3be3c271",
   "metadata": {},
   "source": [
    "## 1."
   ]
  },
  {
   "cell_type": "code",
   "execution_count": 45,
   "id": "eff0bc41-c33e-43e8-9255-750408ac5f59",
   "metadata": {},
   "outputs": [],
   "source": [
    "import pandas as pd\n",
    "from ast import literal_eval\n",
    "from sklearn.model_selection import train_test_split\n",
    "\n",
    "# read from file\n",
    "data_frame = pd.read_csv(\"../ProjectResources/movies/movies_metadata.csv\", low_memory=False)\n",
    "\n",
    "#create working copy\n",
    "work_copy = data_frame.copy()\n",
    "work_copy['budget'] = pd.to_numeric(work_copy['budget'], errors='coerce')\n",
    "\n",
    "# clean the data\n",
    "work_copy.dropna(axis='index', how='any', subset=['budget','vote_average', 'revenue', 'genres'], inplace=True)\n",
    "work_copy = work_copy[['budget','genres', 'vote_average', 'revenue']]\n",
    "# drop data with bad values\n",
    "work_copy = work_copy.drop(work_copy[work_copy.revenue == 0].index)\n",
    "\n",
    "# oject under genres can have multiple values, expand the dataset by creating multiple rows for the\n",
    "# same movie but with a single genre. These single genre items will be in {id: #, name: \"genre_name\"} format\n",
    "work_copy['genres'] = work_copy['genres'].apply(literal_eval)\n",
    "work_copy = work_copy.explode(\"genres\")\n",
    "work_copy.dropna(axis='index', how='any', subset=['genres'], inplace=True)\n",
    "work_copy['genres'] = [d.get('name') for d in work_copy['genres']]\n",
    "\n",
    "# create training and test sets\n",
    "train_set, test_set = train_test_split(work_copy, test_size=0.2, random_state=777)"
   ]
  },
  {
   "cell_type": "markdown",
   "id": "073d85b9-835c-4d50-9a6c-cebefb8d1099",
   "metadata": {},
   "source": [
    "## 2.\n",
    "Features chosen for x are revenue and vote_average. Feature chosen for y is genre. Genre is a clear categorical option to chose from, although the data inside of this feature might be hard to pull from because it's in the form of an object. I chose the x's because I think they will correlate well to genre.\n",
    "Edit: cleaned the objects into single strings."
   ]
  },
  {
   "cell_type": "markdown",
   "id": "a6996717-5164-4de9-823c-2877fd9c203e",
   "metadata": {},
   "source": []
  },
  {
   "cell_type": "code",
   "execution_count": null,
   "id": "e810409f-e040-47d2-96cc-579ad00915f1",
   "metadata": {},
   "outputs": [],
   "source": []
  },
  {
   "cell_type": "code",
   "execution_count": null,
   "id": "9f43b76f-673e-4cc4-9fbb-f8a14c6fa241",
   "metadata": {},
   "outputs": [],
   "source": []
  },
  {
   "cell_type": "code",
   "execution_count": null,
   "id": "6bee5504-5dc7-444f-8fa0-ed01c9ff1e37",
   "metadata": {},
   "outputs": [],
   "source": []
  },
  {
   "cell_type": "code",
   "execution_count": null,
   "id": "5293cee9-985b-428c-b621-1f0c64bc2854",
   "metadata": {},
   "outputs": [],
   "source": []
  }
 ],
 "metadata": {
  "kernelspec": {
   "display_name": "Python 3 (ipykernel)",
   "language": "python",
   "name": "python3"
  },
  "language_info": {
   "codemirror_mode": {
    "name": "ipython",
    "version": 3
   },
   "file_extension": ".py",
   "mimetype": "text/x-python",
   "name": "python",
   "nbconvert_exporter": "python",
   "pygments_lexer": "ipython3",
   "version": "3.11.4"
  }
 },
 "nbformat": 4,
 "nbformat_minor": 5
}
